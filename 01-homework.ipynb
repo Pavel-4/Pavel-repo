{
 "cells": [
  {
   "cell_type": "markdown",
   "id": "82ac5a01-a032-422c-a6c6-8bbf6d124f92",
   "metadata": {},
   "source": [
    "# Easy"
   ]
  },
  {
   "cell_type": "code",
   "execution_count": 26,
   "id": "e260a631-2f3e-4e13-ba4b-18e74c6204eb",
   "metadata": {},
   "outputs": [
    {
     "name": "stdout",
     "output_type": "stream",
     "text": [
      "0.038580246913580245\n"
     ]
    }
   ],
   "source": [
    "value = (7 * 5) / 8\n",
    "value = 5 + value\n",
    "value = value / 3**5\n",
    "print(value)"
   ]
  },
  {
   "cell_type": "markdown",
   "id": "9839e4f8-ed6e-41cf-b6a0-e57fc86cfe4c",
   "metadata": {},
   "source": [
    "# Normal"
   ]
  },
  {
   "cell_type": "code",
   "execution_count": 13,
   "id": "9839fba7-a1ec-481e-a818-eeb72cc6811b",
   "metadata": {},
   "outputs": [
    {
     "name": "stdin",
     "output_type": "stream",
     "text": [
      " 40\n",
      " 2\n"
     ]
    },
    {
     "data": {
      "text/plain": [
       "80"
      ]
     },
     "execution_count": 13,
     "metadata": {},
     "output_type": "execute_result"
    }
   ],
   "source": [
    "v = int(input())\n",
    "t = int(input())\n",
    "v * t"
   ]
  },
  {
   "cell_type": "code",
   "execution_count": 14,
   "id": "e6d55964-2623-49d6-a503-71ec2d56891e",
   "metadata": {},
   "outputs": [
    {
     "name": "stdin",
     "output_type": "stream",
     "text": [
      " 30\n",
      " 5\n"
     ]
    },
    {
     "data": {
      "text/plain": [
       "41"
      ]
     },
     "execution_count": 14,
     "metadata": {},
     "output_type": "execute_result"
    }
   ],
   "source": [
    "v = int(input())\n",
    "t = int(input())\n",
    "print(v * t % 109)"
   ]
  },
  {
   "cell_type": "markdown",
   "id": "721d0067-0f09-4430-821d-d9af5ead9f1d",
   "metadata": {},
   "source": [
    "# Hard"
   ]
  },
  {
   "cell_type": "code",
   "execution_count": 17,
   "id": "56122641-b4ad-46ba-8d25-a1bc64b212fd",
   "metadata": {
    "tags": []
   },
   "outputs": [
    {
     "name": "stdin",
     "output_type": "stream",
     "text": [
      " 124.2\n",
      " -2\n"
     ]
    },
    {
     "data": {
      "text/plain": [
       "124.2"
      ]
     },
     "execution_count": 17,
     "metadata": {},
     "output_type": "execute_result"
    }
   ],
   "source": [
    "a = float(input())\n",
    "b = float(input())\n",
    "max(a,b)"
   ]
  },
  {
   "cell_type": "code",
   "execution_count": 25,
   "id": "2ddc1a24-f947-44e3-a466-c25a29cf8182",
   "metadata": {},
   "outputs": [
    {
     "name": "stdin",
     "output_type": "stream",
     "text": [
      " -9.3\n",
      " -163.5\n"
     ]
    },
    {
     "name": "stdout",
     "output_type": "stream",
     "text": [
      "-9.3\n"
     ]
    }
   ],
   "source": [
    "a = float(input())\n",
    "b = float(input())\n",
    "result = a * (a > b) + b * (b > a)\n",
    "print(result)"
   ]
  },
  {
   "cell_type": "code",
   "execution_count": null,
   "id": "ae10db4c-f4ce-4303-afd7-fb898901516f",
   "metadata": {},
   "outputs": [],
   "source": []
  }
 ],
 "metadata": {
  "kernelspec": {
   "display_name": "Python 3 (ipykernel)",
   "language": "python",
   "name": "python3"
  },
  "language_info": {
   "codemirror_mode": {
    "name": "ipython",
    "version": 3
   },
   "file_extension": ".py",
   "mimetype": "text/x-python",
   "name": "python",
   "nbconvert_exporter": "python",
   "pygments_lexer": "ipython3",
   "version": "3.10.9"
  }
 },
 "nbformat": 4,
 "nbformat_minor": 5
}
